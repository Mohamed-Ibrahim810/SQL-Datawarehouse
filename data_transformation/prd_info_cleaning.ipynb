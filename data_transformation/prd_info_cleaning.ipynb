{
 "cells": [
  {
   "cell_type": "markdown",
   "metadata": {},
   "source": [
    "## Import libraries"
   ]
  },
  {
   "cell_type": "code",
   "execution_count": 29,
   "metadata": {},
   "outputs": [],
   "source": [
    "import pandas as pd\n",
    "import numpy as np\n",
    "from sqlalchemy import create_engine"
   ]
  },
  {
   "cell_type": "markdown",
   "metadata": {},
   "source": [
    "## Extract data from SQL server"
   ]
  },
  {
   "cell_type": "code",
   "execution_count": 30,
   "metadata": {},
   "outputs": [],
   "source": [
    "# Extract the source data from the Bronze layer in SQL Server\n",
    "\n",
    "server = 'mohamedibrahim'\n",
    "database = 'DataWarehouse'\n",
    "\n",
    "connection_string = (\n",
    "    f'mssql+pyodbc://mohamedibrahim/DataWarehouse'\n",
    "    '?driver=ODBC+Driver+17+for+SQL+Server'\n",
    "    '&Trusted_Connection=yes'\n",
    ")\n",
    "engine = create_engine(connection_string)\n",
    "\n",
    "query = \"SELECT * FROM bronze.crm_prd_info\"\n",
    "df = pd.read_sql(query, engine)"
   ]
  },
  {
   "cell_type": "markdown",
   "metadata": {},
   "source": [
    "## Data Overview"
   ]
  },
  {
   "cell_type": "code",
   "execution_count": 31,
   "metadata": {},
   "outputs": [
    {
     "data": {
      "application/vnd.microsoft.datawrangler.viewer.v0+json": {
       "columns": [
        {
         "name": "index",
         "rawType": "int64",
         "type": "integer"
        },
        {
         "name": "prd_id",
         "rawType": "int64",
         "type": "integer"
        },
        {
         "name": "prd_key",
         "rawType": "object",
         "type": "string"
        },
        {
         "name": "prd_nm",
         "rawType": "object",
         "type": "string"
        },
        {
         "name": "prd_cost",
         "rawType": "float64",
         "type": "float"
        },
        {
         "name": "prd_line",
         "rawType": "object",
         "type": "string"
        },
        {
         "name": "prd_start_dt",
         "rawType": "object",
         "type": "unknown"
        },
        {
         "name": "prd_end_dt",
         "rawType": "object",
         "type": "unknown"
        }
       ],
       "conversionMethod": "pd.DataFrame",
       "ref": "eb62b9cb-813b-4a0d-a581-82a4019e68c8",
       "rows": [
        [
         "0",
         "210",
         "CO-RF-FR-R92B-58",
         "HL Road Frame - Black- 58",
         null,
         "R ",
         "2003-07-01",
         null
        ],
        [
         "1",
         "211",
         "CO-RF-FR-R92R-58",
         "HL Road Frame - Red- 58",
         null,
         "R ",
         "2003-07-01",
         null
        ],
        [
         "2",
         "212",
         "AC-HE-HL-U509-R",
         "Sport-100 Helmet- Red",
         "12.0",
         "S ",
         "2011-07-01",
         "2007-12-28"
        ],
        [
         "3",
         "213",
         "AC-HE-HL-U509-R",
         "Sport-100 Helmet- Red",
         "14.0",
         "S ",
         "2012-07-01",
         "2008-12-27"
        ],
        [
         "4",
         "214",
         "AC-HE-HL-U509-R",
         "Sport-100 Helmet- Red",
         "13.0",
         "S ",
         "2013-07-01",
         null
        ]
       ],
       "shape": {
        "columns": 7,
        "rows": 5
       }
      },
      "text/html": [
       "<div>\n",
       "<style scoped>\n",
       "    .dataframe tbody tr th:only-of-type {\n",
       "        vertical-align: middle;\n",
       "    }\n",
       "\n",
       "    .dataframe tbody tr th {\n",
       "        vertical-align: top;\n",
       "    }\n",
       "\n",
       "    .dataframe thead th {\n",
       "        text-align: right;\n",
       "    }\n",
       "</style>\n",
       "<table border=\"1\" class=\"dataframe\">\n",
       "  <thead>\n",
       "    <tr style=\"text-align: right;\">\n",
       "      <th></th>\n",
       "      <th>prd_id</th>\n",
       "      <th>prd_key</th>\n",
       "      <th>prd_nm</th>\n",
       "      <th>prd_cost</th>\n",
       "      <th>prd_line</th>\n",
       "      <th>prd_start_dt</th>\n",
       "      <th>prd_end_dt</th>\n",
       "    </tr>\n",
       "  </thead>\n",
       "  <tbody>\n",
       "    <tr>\n",
       "      <th>0</th>\n",
       "      <td>210</td>\n",
       "      <td>CO-RF-FR-R92B-58</td>\n",
       "      <td>HL Road Frame - Black- 58</td>\n",
       "      <td>NaN</td>\n",
       "      <td>R</td>\n",
       "      <td>2003-07-01</td>\n",
       "      <td>None</td>\n",
       "    </tr>\n",
       "    <tr>\n",
       "      <th>1</th>\n",
       "      <td>211</td>\n",
       "      <td>CO-RF-FR-R92R-58</td>\n",
       "      <td>HL Road Frame - Red- 58</td>\n",
       "      <td>NaN</td>\n",
       "      <td>R</td>\n",
       "      <td>2003-07-01</td>\n",
       "      <td>None</td>\n",
       "    </tr>\n",
       "    <tr>\n",
       "      <th>2</th>\n",
       "      <td>212</td>\n",
       "      <td>AC-HE-HL-U509-R</td>\n",
       "      <td>Sport-100 Helmet- Red</td>\n",
       "      <td>12.0</td>\n",
       "      <td>S</td>\n",
       "      <td>2011-07-01</td>\n",
       "      <td>2007-12-28</td>\n",
       "    </tr>\n",
       "    <tr>\n",
       "      <th>3</th>\n",
       "      <td>213</td>\n",
       "      <td>AC-HE-HL-U509-R</td>\n",
       "      <td>Sport-100 Helmet- Red</td>\n",
       "      <td>14.0</td>\n",
       "      <td>S</td>\n",
       "      <td>2012-07-01</td>\n",
       "      <td>2008-12-27</td>\n",
       "    </tr>\n",
       "    <tr>\n",
       "      <th>4</th>\n",
       "      <td>214</td>\n",
       "      <td>AC-HE-HL-U509-R</td>\n",
       "      <td>Sport-100 Helmet- Red</td>\n",
       "      <td>13.0</td>\n",
       "      <td>S</td>\n",
       "      <td>2013-07-01</td>\n",
       "      <td>None</td>\n",
       "    </tr>\n",
       "  </tbody>\n",
       "</table>\n",
       "</div>"
      ],
      "text/plain": [
       "   prd_id           prd_key                     prd_nm  prd_cost prd_line  \\\n",
       "0     210  CO-RF-FR-R92B-58  HL Road Frame - Black- 58       NaN       R    \n",
       "1     211  CO-RF-FR-R92R-58    HL Road Frame - Red- 58       NaN       R    \n",
       "2     212   AC-HE-HL-U509-R      Sport-100 Helmet- Red      12.0       S    \n",
       "3     213   AC-HE-HL-U509-R      Sport-100 Helmet- Red      14.0       S    \n",
       "4     214   AC-HE-HL-U509-R      Sport-100 Helmet- Red      13.0       S    \n",
       "\n",
       "  prd_start_dt  prd_end_dt  \n",
       "0   2003-07-01        None  \n",
       "1   2003-07-01        None  \n",
       "2   2011-07-01  2007-12-28  \n",
       "3   2012-07-01  2008-12-27  \n",
       "4   2013-07-01        None  "
      ]
     },
     "execution_count": 31,
     "metadata": {},
     "output_type": "execute_result"
    }
   ],
   "source": [
    "df.head()"
   ]
  },
  {
   "cell_type": "code",
   "execution_count": 32,
   "metadata": {},
   "outputs": [
    {
     "name": "stdout",
     "output_type": "stream",
     "text": [
      "<class 'pandas.core.frame.DataFrame'>\n",
      "RangeIndex: 397 entries, 0 to 396\n",
      "Data columns (total 7 columns):\n",
      " #   Column        Non-Null Count  Dtype  \n",
      "---  ------        --------------  -----  \n",
      " 0   prd_id        397 non-null    int64  \n",
      " 1   prd_key       397 non-null    object \n",
      " 2   prd_nm        397 non-null    object \n",
      " 3   prd_cost      395 non-null    float64\n",
      " 4   prd_line      380 non-null    object \n",
      " 5   prd_start_dt  397 non-null    object \n",
      " 6   prd_end_dt    200 non-null    object \n",
      "dtypes: float64(1), int64(1), object(5)\n",
      "memory usage: 21.8+ KB\n"
     ]
    }
   ],
   "source": [
    "df.info()"
   ]
  },
  {
   "cell_type": "code",
   "execution_count": 33,
   "metadata": {},
   "outputs": [
    {
     "data": {
      "text/plain": [
       "prd_id            0\n",
       "prd_key           0\n",
       "prd_nm            0\n",
       "prd_cost          2\n",
       "prd_line         17\n",
       "prd_start_dt      0\n",
       "prd_end_dt      197\n",
       "dtype: int64"
      ]
     },
     "execution_count": 33,
     "metadata": {},
     "output_type": "execute_result"
    }
   ],
   "source": [
    "df.isnull().sum()"
   ]
  },
  {
   "cell_type": "code",
   "execution_count": 34,
   "metadata": {},
   "outputs": [
    {
     "data": {
      "text/plain": [
       "0"
      ]
     },
     "execution_count": 34,
     "metadata": {},
     "output_type": "execute_result"
    }
   ],
   "source": [
    "df.duplicated().sum()"
   ]
  },
  {
   "cell_type": "code",
   "execution_count": 35,
   "metadata": {},
   "outputs": [
    {
     "name": "stdout",
     "output_type": "stream",
     "text": [
      "Unwanted spaces found in column: prd_line\n"
     ]
    }
   ],
   "source": [
    "# Checks each object column for unwanted spaces (leading spaces, trailing spaces, multiple spaces)\n",
    "for col in df.select_dtypes(include='object').columns:\n",
    "    has_unwanted_spaces = False\n",
    "    \n",
    "    # Iterate through non-null values and check each one\n",
    "    for value in df[col][df[col].notna()]:\n",
    "        # Convert to string and check for unwanted spaces\n",
    "        str_value = str(value)\n",
    "        # Check for leading/trailing spaces or multiple consecutive spaces\n",
    "        if str_value != str_value.strip() or '  ' in str_value:\n",
    "            has_unwanted_spaces = True\n",
    "            break\n",
    "    \n",
    "    if has_unwanted_spaces:\n",
    "        print(f\"Unwanted spaces found in column: {col}\")"
   ]
  },
  {
   "cell_type": "markdown",
   "metadata": {},
   "source": [
    "## Data Inspection & Cleaning"
   ]
  },
  {
   "cell_type": "markdown",
   "metadata": {},
   "source": [
    "#### Column \"prd_id\""
   ]
  },
  {
   "cell_type": "code",
   "execution_count": 36,
   "metadata": {},
   "outputs": [
    {
     "data": {
      "text/plain": [
       "True"
      ]
     },
     "execution_count": 36,
     "metadata": {},
     "output_type": "execute_result"
    }
   ],
   "source": [
    "df[\"prd_id\"].is_unique"
   ]
  },
  {
   "cell_type": "markdown",
   "metadata": {},
   "source": [
    "#### Column \"prd_key\""
   ]
  },
  {
   "cell_type": "code",
   "execution_count": 37,
   "metadata": {},
   "outputs": [],
   "source": [
    "df[\"cat_id\"] = df[\"prd_key\"].str[:5]"
   ]
  },
  {
   "cell_type": "code",
   "execution_count": 38,
   "metadata": {},
   "outputs": [],
   "source": [
    "df[\"prd_key\"] = df[\"prd_key\"].str[6:]"
   ]
  },
  {
   "cell_type": "markdown",
   "metadata": {},
   "source": [
    "#### Column \"prd_nm\""
   ]
  },
  {
   "cell_type": "code",
   "execution_count": 39,
   "metadata": {},
   "outputs": [
    {
     "data": {
      "text/plain": [
       "['HL Road Frame - Black- 58',\n",
       " 'HL Road Frame - Red- 58',\n",
       " 'Sport-100 Helmet- Red',\n",
       " 'Sport-100 Helmet- Black',\n",
       " 'Mountain Bike Socks- M',\n",
       " 'Mountain Bike Socks- L',\n",
       " 'Sport-100 Helmet- Blue',\n",
       " 'AWC Logo Cap',\n",
       " 'Long-Sleeve Logo Jersey- S',\n",
       " 'Long-Sleeve Logo Jersey- M',\n",
       " 'Long-Sleeve Logo Jersey- L',\n",
       " 'Long-Sleeve Logo Jersey- XL',\n",
       " 'HL Road Frame - Red- 62',\n",
       " 'HL Road Frame - Red- 44',\n",
       " 'HL Road Frame - Red- 48',\n",
       " 'HL Road Frame - Red- 52',\n",
       " 'HL Road Frame - Red- 56',\n",
       " 'LL Road Frame - Black- 58',\n",
       " 'LL Road Frame - Black- 60',\n",
       " 'LL Road Frame - Black- 62',\n",
       " 'LL Road Frame - Red- 44',\n",
       " 'LL Road Frame - Red- 48',\n",
       " 'LL Road Frame - Red- 52',\n",
       " 'LL Road Frame - Red- 58',\n",
       " 'LL Road Frame - Red- 60',\n",
       " 'LL Road Frame - Red- 62',\n",
       " 'ML Road Frame - Red- 44',\n",
       " 'ML Road Frame - Red- 48',\n",
       " 'ML Road Frame - Red- 52',\n",
       " 'ML Road Frame - Red- 58',\n",
       " 'ML Road Frame - Red- 60',\n",
       " 'LL Road Frame - Black- 44',\n",
       " 'LL Road Frame - Black- 48',\n",
       " 'LL Road Frame - Black- 52',\n",
       " 'HL Mountain Frame - Silver- 42',\n",
       " 'HL Mountain Frame - Silver- 44',\n",
       " 'HL Mountain Frame - Silver- 48',\n",
       " 'HL Mountain Frame - Silver- 46',\n",
       " 'HL Mountain Frame - Black- 42',\n",
       " 'HL Mountain Frame - Black- 44',\n",
       " 'HL Mountain Frame - Black- 48',\n",
       " 'HL Mountain Frame - Black- 46',\n",
       " 'HL Mountain Frame - Black- 38',\n",
       " 'HL Mountain Frame - Silver- 38',\n",
       " 'Road-150 Red- 62',\n",
       " 'Road-150 Red- 44',\n",
       " 'Road-150 Red- 48',\n",
       " 'Road-150 Red- 52',\n",
       " 'Road-150 Red- 56',\n",
       " 'Road-450 Red- 58',\n",
       " 'Road-450 Red- 60',\n",
       " 'Road-450 Red- 44',\n",
       " 'Road-450 Red- 48',\n",
       " 'Road-450 Red- 52',\n",
       " 'Road-650 Red- 58',\n",
       " 'Road-650 Red- 60',\n",
       " 'Road-650 Red- 62',\n",
       " 'Road-650 Red- 44',\n",
       " 'Road-650 Red- 48',\n",
       " 'Road-650 Red- 52',\n",
       " 'Road-650 Black- 58',\n",
       " 'Road-650 Black- 60',\n",
       " 'Road-650 Black- 62',\n",
       " 'Road-650 Black- 44',\n",
       " 'Road-650 Black- 48',\n",
       " 'Road-650 Black- 52',\n",
       " 'Mountain-100 Silver- 38',\n",
       " 'Mountain-100 Silver- 42',\n",
       " 'Mountain-100 Silver- 44',\n",
       " 'Mountain-100 Silver- 48',\n",
       " 'Mountain-100 Black- 38',\n",
       " 'Mountain-100 Black- 42',\n",
       " 'Mountain-100 Black- 44',\n",
       " 'Mountain-100 Black- 48',\n",
       " 'Mountain-200 Silver- 38',\n",
       " 'Mountain-200 Silver- 42',\n",
       " 'Mountain-200 Silver- 46',\n",
       " 'Mountain-200 Black- 38',\n",
       " 'Mountain-200 Black- 42',\n",
       " 'Mountain-200 Black- 46',\n",
       " 'Mountain-300 Black- 38',\n",
       " 'Mountain-300 Black- 40',\n",
       " 'Mountain-300 Black- 44',\n",
       " 'Mountain-300 Black- 48',\n",
       " 'Road-250 Red- 44',\n",
       " 'Road-250 Red- 48',\n",
       " 'Road-250 Red- 52',\n",
       " 'Road-250 Red- 58',\n",
       " 'Road-250 Black- 44',\n",
       " 'Road-250 Black- 48',\n",
       " 'Road-250 Black- 52',\n",
       " 'Road-250 Black- 58',\n",
       " 'Road-550-W Yellow- 38',\n",
       " 'Road-550-W Yellow- 40',\n",
       " 'Road-550-W Yellow- 42',\n",
       " 'Road-550-W Yellow- 44',\n",
       " 'Road-550-W Yellow- 48',\n",
       " 'LL Fork',\n",
       " 'ML Fork',\n",
       " 'HL Fork',\n",
       " 'LL Headset',\n",
       " 'ML Headset',\n",
       " 'HL Headset',\n",
       " 'LL Mountain Handlebars',\n",
       " 'ML Mountain Handlebars',\n",
       " 'HL Mountain Handlebars',\n",
       " 'LL Road Handlebars',\n",
       " 'ML Road Handlebars',\n",
       " 'HL Road Handlebars',\n",
       " 'ML Mountain Frame - Black- 38',\n",
       " 'LL Mountain Front Wheel',\n",
       " 'ML Mountain Front Wheel',\n",
       " 'HL Mountain Front Wheel',\n",
       " 'LL Road Front Wheel',\n",
       " 'ML Road Front Wheel',\n",
       " 'HL Road Front Wheel',\n",
       " 'Touring Front Wheel',\n",
       " 'ML Road Frame-W - Yellow- 38',\n",
       " 'LL Mountain Rear Wheel',\n",
       " 'ML Mountain Rear Wheel',\n",
       " 'HL Mountain Rear Wheel',\n",
       " 'LL Road Rear Wheel',\n",
       " 'ML Road Rear Wheel',\n",
       " 'HL Road Rear Wheel',\n",
       " 'Touring Rear Wheel',\n",
       " 'ML Mountain Frame - Black- 40',\n",
       " 'ML Mountain Frame - Black- 44',\n",
       " 'ML Mountain Frame - Black- 48',\n",
       " 'ML Road Frame-W - Yellow- 40',\n",
       " 'ML Road Frame-W - Yellow- 42',\n",
       " 'ML Road Frame-W - Yellow- 44',\n",
       " 'ML Road Frame-W - Yellow- 48',\n",
       " 'HL Road Frame - Black- 62',\n",
       " 'HL Road Frame - Black- 44',\n",
       " 'HL Road Frame - Black- 48',\n",
       " 'HL Road Frame - Black- 52',\n",
       " \"Men's Sports Shorts- S\",\n",
       " 'Touring-Panniers- Large',\n",
       " 'Cable Lock',\n",
       " 'Minipump',\n",
       " 'Mountain Pump',\n",
       " 'Taillights - Battery-Powered',\n",
       " 'Headlights - Dual-Beam',\n",
       " 'Headlights - Weatherproof',\n",
       " \"Men's Sports Shorts- M\",\n",
       " \"Men's Sports Shorts- L\",\n",
       " \"Men's Sports Shorts- XL\",\n",
       " \"Women's Tights- S\",\n",
       " \"Women's Tights- M\",\n",
       " \"Women's Tights- L\",\n",
       " \"Men's Bib-Shorts- S\",\n",
       " \"Men's Bib-Shorts- M\",\n",
       " \"Men's Bib-Shorts- L\",\n",
       " 'Half-Finger Gloves- S',\n",
       " 'Half-Finger Gloves- M',\n",
       " 'Half-Finger Gloves- L',\n",
       " 'Full-Finger Gloves- S',\n",
       " 'Full-Finger Gloves- M',\n",
       " 'Full-Finger Gloves- L',\n",
       " 'Classic Vest- S',\n",
       " 'Classic Vest- M',\n",
       " 'Classic Vest- L',\n",
       " \"Women's Mountain Shorts- S\",\n",
       " \"Women's Mountain Shorts- M\",\n",
       " \"Women's Mountain Shorts- L\",\n",
       " 'Water Bottle - 30 oz.',\n",
       " 'Mountain Bottle Cage',\n",
       " 'Road Bottle Cage',\n",
       " 'Patch Kit/8 Patches',\n",
       " 'Racing Socks- M',\n",
       " 'Racing Socks- L',\n",
       " 'Hitch Rack - 4-Bike',\n",
       " 'Bike Wash - Dissolver',\n",
       " 'Fender Set - Mountain',\n",
       " 'All-Purpose Bike Stand',\n",
       " 'Hydration Pack - 70 oz.',\n",
       " 'Short-Sleeve Classic Jersey- S',\n",
       " 'Short-Sleeve Classic Jersey- M',\n",
       " 'Short-Sleeve Classic Jersey- L',\n",
       " 'Short-Sleeve Classic Jersey- XL',\n",
       " 'HL Touring Frame - Yellow- 60',\n",
       " 'LL Touring Frame - Yellow- 62',\n",
       " 'HL Touring Frame - Yellow- 46',\n",
       " 'HL Touring Frame - Yellow- 50',\n",
       " 'HL Touring Frame - Yellow- 54',\n",
       " 'HL Touring Frame - Blue- 46',\n",
       " 'HL Touring Frame - Blue- 50',\n",
       " 'HL Touring Frame - Blue- 54',\n",
       " 'HL Touring Frame - Blue- 60',\n",
       " 'Rear Derailleur',\n",
       " 'LL Touring Frame - Blue- 50',\n",
       " 'LL Touring Frame - Blue- 54',\n",
       " 'LL Touring Frame - Blue- 58',\n",
       " 'LL Touring Frame - Blue- 62',\n",
       " 'LL Touring Frame - Yellow- 44',\n",
       " 'LL Touring Frame - Yellow- 50',\n",
       " 'LL Touring Frame - Yellow- 54',\n",
       " 'LL Touring Frame - Yellow- 58',\n",
       " 'LL Touring Frame - Blue- 44',\n",
       " 'ML Mountain Frame-W - Silver- 40',\n",
       " 'ML Mountain Frame-W - Silver- 42',\n",
       " 'ML Mountain Frame-W - Silver- 46',\n",
       " 'Rear Brakes',\n",
       " 'LL Mountain Seat/Saddle',\n",
       " 'ML Mountain Seat/Saddle',\n",
       " 'HL Mountain Seat/Saddle',\n",
       " 'LL Road Seat/Saddle',\n",
       " 'ML Road Seat/Saddle',\n",
       " 'HL Road Seat/Saddle',\n",
       " 'LL Touring Seat/Saddle',\n",
       " 'ML Touring Seat/Saddle',\n",
       " 'HL Touring Seat/Saddle',\n",
       " 'LL Mountain Frame - Silver- 42',\n",
       " 'LL Mountain Frame - Silver- 44',\n",
       " 'LL Mountain Frame - Silver- 48',\n",
       " 'LL Mountain Frame - Silver- 52',\n",
       " 'Mountain Tire Tube',\n",
       " 'Road Tire Tube',\n",
       " 'Touring Tire Tube',\n",
       " 'LL Mountain Frame - Black- 42',\n",
       " 'LL Mountain Frame - Black- 44',\n",
       " 'LL Mountain Frame - Black- 48',\n",
       " 'LL Mountain Frame - Black- 52',\n",
       " 'LL Mountain Tire',\n",
       " 'ML Mountain Tire',\n",
       " 'HL Mountain Tire',\n",
       " 'LL Road Tire',\n",
       " 'ML Road Tire',\n",
       " 'HL Road Tire',\n",
       " 'Touring Tire',\n",
       " 'LL Mountain Pedal',\n",
       " 'ML Mountain Pedal',\n",
       " 'HL Mountain Pedal',\n",
       " 'LL Road Pedal',\n",
       " 'ML Road Pedal',\n",
       " 'HL Road Pedal',\n",
       " 'Touring Pedal',\n",
       " 'ML Mountain Frame-W - Silver- 38',\n",
       " 'LL Mountain Frame - Black- 40',\n",
       " 'LL Mountain Frame - Silver- 40',\n",
       " 'Front Derailleur',\n",
       " 'LL Touring Handlebars',\n",
       " 'HL Touring Handlebars',\n",
       " 'Front Brakes',\n",
       " 'LL Crankset',\n",
       " 'ML Crankset',\n",
       " 'HL Crankset',\n",
       " 'Chain',\n",
       " 'Touring-2000 Blue- 60',\n",
       " 'Touring-1000 Yellow- 46',\n",
       " 'Touring-1000 Yellow- 50',\n",
       " 'Touring-1000 Yellow- 54',\n",
       " 'Touring-1000 Yellow- 60',\n",
       " 'Touring-3000 Blue- 54',\n",
       " 'Touring-3000 Blue- 58',\n",
       " 'Touring-3000 Blue- 62',\n",
       " 'Touring-3000 Yellow- 44',\n",
       " 'Touring-3000 Yellow- 50',\n",
       " 'Touring-3000 Yellow- 54',\n",
       " 'Touring-3000 Yellow- 58',\n",
       " 'Touring-3000 Yellow- 62',\n",
       " 'Touring-1000 Blue- 46',\n",
       " 'Touring-1000 Blue- 50',\n",
       " 'Touring-1000 Blue- 54',\n",
       " 'Touring-1000 Blue- 60',\n",
       " 'Touring-2000 Blue- 46',\n",
       " 'Touring-2000 Blue- 50',\n",
       " 'Touring-2000 Blue- 54',\n",
       " 'Road-350-W Yellow- 40',\n",
       " 'Road-350-W Yellow- 42',\n",
       " 'Road-350-W Yellow- 44',\n",
       " 'Road-350-W Yellow- 48',\n",
       " 'Road-750 Black- 58',\n",
       " 'Touring-3000 Blue- 44',\n",
       " 'Touring-3000 Blue- 50',\n",
       " 'Mountain-400-W Silver- 38',\n",
       " 'Mountain-400-W Silver- 40',\n",
       " 'Mountain-400-W Silver- 42',\n",
       " 'Mountain-400-W Silver- 46',\n",
       " 'Mountain-500 Silver- 40',\n",
       " 'Mountain-500 Silver- 42',\n",
       " 'Mountain-500 Silver- 44',\n",
       " 'Mountain-500 Silver- 48',\n",
       " 'Mountain-500 Silver- 52',\n",
       " 'Mountain-500 Black- 40',\n",
       " 'Mountain-500 Black- 42',\n",
       " 'Mountain-500 Black- 44',\n",
       " 'Mountain-500 Black- 48',\n",
       " 'Mountain-500 Black- 52',\n",
       " 'LL Bottom Bracket',\n",
       " 'ML Bottom Bracket',\n",
       " 'HL Bottom Bracket',\n",
       " 'Road-750 Black- 44',\n",
       " 'Road-750 Black- 48',\n",
       " 'Road-750 Black- 52']"
      ]
     },
     "execution_count": 39,
     "metadata": {},
     "output_type": "execute_result"
    }
   ],
   "source": [
    "df[\"prd_nm\"].unique().tolist()"
   ]
  },
  {
   "cell_type": "markdown",
   "metadata": {},
   "source": [
    "#### Column \"prd_cost\""
   ]
  },
  {
   "cell_type": "code",
   "execution_count": 40,
   "metadata": {},
   "outputs": [
    {
     "data": {
      "application/vnd.microsoft.datawrangler.viewer.v0+json": {
       "columns": [
        {
         "name": "index",
         "rawType": "int64",
         "type": "integer"
        },
        {
         "name": "prd_id",
         "rawType": "int64",
         "type": "integer"
        },
        {
         "name": "prd_key",
         "rawType": "object",
         "type": "string"
        },
        {
         "name": "prd_nm",
         "rawType": "object",
         "type": "string"
        },
        {
         "name": "prd_cost",
         "rawType": "float64",
         "type": "float"
        },
        {
         "name": "prd_line",
         "rawType": "object",
         "type": "string"
        },
        {
         "name": "prd_start_dt",
         "rawType": "object",
         "type": "unknown"
        },
        {
         "name": "prd_end_dt",
         "rawType": "object",
         "type": "unknown"
        },
        {
         "name": "cat_id",
         "rawType": "object",
         "type": "string"
        }
       ],
       "conversionMethod": "pd.DataFrame",
       "ref": "5c17ea0e-3985-4d20-a214-2b6ea37d4ec7",
       "rows": [
        [
         "0",
         "210",
         "FR-R92B-58",
         "HL Road Frame - Black- 58",
         null,
         "R ",
         "2003-07-01",
         null,
         "CO-RF"
        ],
        [
         "1",
         "211",
         "FR-R92R-58",
         "HL Road Frame - Red- 58",
         null,
         "R ",
         "2003-07-01",
         null,
         "CO-RF"
        ]
       ],
       "shape": {
        "columns": 8,
        "rows": 2
       }
      },
      "text/html": [
       "<div>\n",
       "<style scoped>\n",
       "    .dataframe tbody tr th:only-of-type {\n",
       "        vertical-align: middle;\n",
       "    }\n",
       "\n",
       "    .dataframe tbody tr th {\n",
       "        vertical-align: top;\n",
       "    }\n",
       "\n",
       "    .dataframe thead th {\n",
       "        text-align: right;\n",
       "    }\n",
       "</style>\n",
       "<table border=\"1\" class=\"dataframe\">\n",
       "  <thead>\n",
       "    <tr style=\"text-align: right;\">\n",
       "      <th></th>\n",
       "      <th>prd_id</th>\n",
       "      <th>prd_key</th>\n",
       "      <th>prd_nm</th>\n",
       "      <th>prd_cost</th>\n",
       "      <th>prd_line</th>\n",
       "      <th>prd_start_dt</th>\n",
       "      <th>prd_end_dt</th>\n",
       "      <th>cat_id</th>\n",
       "    </tr>\n",
       "  </thead>\n",
       "  <tbody>\n",
       "    <tr>\n",
       "      <th>0</th>\n",
       "      <td>210</td>\n",
       "      <td>FR-R92B-58</td>\n",
       "      <td>HL Road Frame - Black- 58</td>\n",
       "      <td>NaN</td>\n",
       "      <td>R</td>\n",
       "      <td>2003-07-01</td>\n",
       "      <td>None</td>\n",
       "      <td>CO-RF</td>\n",
       "    </tr>\n",
       "    <tr>\n",
       "      <th>1</th>\n",
       "      <td>211</td>\n",
       "      <td>FR-R92R-58</td>\n",
       "      <td>HL Road Frame - Red- 58</td>\n",
       "      <td>NaN</td>\n",
       "      <td>R</td>\n",
       "      <td>2003-07-01</td>\n",
       "      <td>None</td>\n",
       "      <td>CO-RF</td>\n",
       "    </tr>\n",
       "  </tbody>\n",
       "</table>\n",
       "</div>"
      ],
      "text/plain": [
       "   prd_id     prd_key                     prd_nm  prd_cost prd_line  \\\n",
       "0     210  FR-R92B-58  HL Road Frame - Black- 58       NaN       R    \n",
       "1     211  FR-R92R-58    HL Road Frame - Red- 58       NaN       R    \n",
       "\n",
       "  prd_start_dt prd_end_dt cat_id  \n",
       "0   2003-07-01       None  CO-RF  \n",
       "1   2003-07-01       None  CO-RF  "
      ]
     },
     "execution_count": 40,
     "metadata": {},
     "output_type": "execute_result"
    }
   ],
   "source": [
    "df[df[\"prd_cost\"].isnull()]"
   ]
  },
  {
   "cell_type": "code",
   "execution_count": 41,
   "metadata": {},
   "outputs": [],
   "source": [
    "df[\"prd_cost\"] = df[\"prd_cost\"].fillna(0)"
   ]
  },
  {
   "cell_type": "code",
   "execution_count": 42,
   "metadata": {},
   "outputs": [
    {
     "data": {
      "application/vnd.microsoft.datawrangler.viewer.v0+json": {
       "columns": [
        {
         "name": "index",
         "rawType": "int64",
         "type": "integer"
        },
        {
         "name": "prd_id",
         "rawType": "int64",
         "type": "integer"
        },
        {
         "name": "prd_key",
         "rawType": "object",
         "type": "string"
        },
        {
         "name": "prd_nm",
         "rawType": "object",
         "type": "string"
        },
        {
         "name": "prd_cost",
         "rawType": "float64",
         "type": "float"
        },
        {
         "name": "prd_line",
         "rawType": "object",
         "type": "string"
        },
        {
         "name": "prd_start_dt",
         "rawType": "object",
         "type": "string"
        },
        {
         "name": "prd_end_dt",
         "rawType": "object",
         "type": "string"
        },
        {
         "name": "cat_id",
         "rawType": "object",
         "type": "string"
        }
       ],
       "conversionMethod": "pd.DataFrame",
       "ref": "56b4ac9e-cf2e-4ae2-9b62-0f0bc3710861",
       "rows": [],
       "shape": {
        "columns": 8,
        "rows": 0
       }
      },
      "text/html": [
       "<div>\n",
       "<style scoped>\n",
       "    .dataframe tbody tr th:only-of-type {\n",
       "        vertical-align: middle;\n",
       "    }\n",
       "\n",
       "    .dataframe tbody tr th {\n",
       "        vertical-align: top;\n",
       "    }\n",
       "\n",
       "    .dataframe thead th {\n",
       "        text-align: right;\n",
       "    }\n",
       "</style>\n",
       "<table border=\"1\" class=\"dataframe\">\n",
       "  <thead>\n",
       "    <tr style=\"text-align: right;\">\n",
       "      <th></th>\n",
       "      <th>prd_id</th>\n",
       "      <th>prd_key</th>\n",
       "      <th>prd_nm</th>\n",
       "      <th>prd_cost</th>\n",
       "      <th>prd_line</th>\n",
       "      <th>prd_start_dt</th>\n",
       "      <th>prd_end_dt</th>\n",
       "      <th>cat_id</th>\n",
       "    </tr>\n",
       "  </thead>\n",
       "  <tbody>\n",
       "  </tbody>\n",
       "</table>\n",
       "</div>"
      ],
      "text/plain": [
       "Empty DataFrame\n",
       "Columns: [prd_id, prd_key, prd_nm, prd_cost, prd_line, prd_start_dt, prd_end_dt, cat_id]\n",
       "Index: []"
      ]
     },
     "execution_count": 42,
     "metadata": {},
     "output_type": "execute_result"
    }
   ],
   "source": [
    "df[df[\"prd_cost\"]<0]"
   ]
  },
  {
   "cell_type": "markdown",
   "metadata": {},
   "source": [
    "#### Column \"cat_id\""
   ]
  },
  {
   "cell_type": "code",
   "execution_count": 43,
   "metadata": {},
   "outputs": [],
   "source": [
    "df[\"cat_id\"] = df[\"cat_id\"].str.replace('-','_')"
   ]
  },
  {
   "cell_type": "markdown",
   "metadata": {},
   "source": [
    "#### Column \"prd_line\""
   ]
  },
  {
   "cell_type": "code",
   "execution_count": 44,
   "metadata": {},
   "outputs": [],
   "source": [
    "df[\"prd_line\"] = df[\"prd_line\"].str.strip()"
   ]
  },
  {
   "cell_type": "code",
   "execution_count": 45,
   "metadata": {},
   "outputs": [
    {
     "data": {
      "text/plain": [
       "array(['R', 'S', 'M', None, 'T'], dtype=object)"
      ]
     },
     "execution_count": 45,
     "metadata": {},
     "output_type": "execute_result"
    }
   ],
   "source": [
    "df[\"prd_line\"].unique()"
   ]
  },
  {
   "cell_type": "code",
   "execution_count": 46,
   "metadata": {},
   "outputs": [],
   "source": [
    "df[\"prd_line\"] = df[\"prd_line\"].fillna('Unknown')"
   ]
  },
  {
   "cell_type": "code",
   "execution_count": 47,
   "metadata": {},
   "outputs": [],
   "source": [
    "df[\"prd_line\"] = df[\"prd_line\"].replace('R','Road')\n",
    "df[\"prd_line\"] = df[\"prd_line\"].replace('S','Other Sales')\n",
    "df[\"prd_line\"] = df[\"prd_line\"].replace('M','Mountain')\n",
    "df[\"prd_line\"] = df[\"prd_line\"].replace('T','Touring')"
   ]
  },
  {
   "cell_type": "markdown",
   "metadata": {},
   "source": [
    "#### Columns \"prd_start_dt\" & \"prd_end_dt\""
   ]
  },
  {
   "cell_type": "code",
   "execution_count": 48,
   "metadata": {},
   "outputs": [],
   "source": [
    "# Convert to datetime\n",
    "df['prd_start_dt'] = pd.to_datetime(df['prd_start_dt'])\n",
    "df['prd_end_dt'] = pd.to_datetime(df['prd_end_dt'])"
   ]
  },
  {
   "cell_type": "code",
   "execution_count": 49,
   "metadata": {},
   "outputs": [
    {
     "data": {
      "application/vnd.microsoft.datawrangler.viewer.v0+json": {
       "columns": [
        {
         "name": "index",
         "rawType": "int64",
         "type": "integer"
        },
        {
         "name": "prd_id",
         "rawType": "int64",
         "type": "integer"
        },
        {
         "name": "prd_key",
         "rawType": "object",
         "type": "string"
        },
        {
         "name": "prd_nm",
         "rawType": "object",
         "type": "string"
        },
        {
         "name": "prd_cost",
         "rawType": "float64",
         "type": "float"
        },
        {
         "name": "prd_line",
         "rawType": "object",
         "type": "string"
        },
        {
         "name": "prd_start_dt",
         "rawType": "datetime64[ns]",
         "type": "datetime"
        },
        {
         "name": "prd_end_dt",
         "rawType": "datetime64[ns]",
         "type": "datetime"
        },
        {
         "name": "cat_id",
         "rawType": "object",
         "type": "string"
        }
       ],
       "conversionMethod": "pd.DataFrame",
       "ref": "690abdaf-d86b-4475-8684-253553254145",
       "rows": [
        [
         "2",
         "212",
         "HL-U509-R",
         "Sport-100 Helmet- Red",
         "12.0",
         "Other Sales",
         "2011-07-01 00:00:00",
         "2007-12-28 00:00:00",
         "AC_HE"
        ],
        [
         "3",
         "213",
         "HL-U509-R",
         "Sport-100 Helmet- Red",
         "14.0",
         "Other Sales",
         "2012-07-01 00:00:00",
         "2008-12-27 00:00:00",
         "AC_HE"
        ],
        [
         "5",
         "215",
         "HL-U509",
         "Sport-100 Helmet- Black",
         "12.0",
         "Other Sales",
         "2011-07-01 00:00:00",
         "2007-12-28 00:00:00",
         "AC_HE"
        ],
        [
         "6",
         "216",
         "HL-U509",
         "Sport-100 Helmet- Black",
         "14.0",
         "Other Sales",
         "2012-07-01 00:00:00",
         "2008-12-27 00:00:00",
         "AC_HE"
        ],
        [
         "8",
         "218",
         "SO-B909-M",
         "Mountain Bike Socks- M",
         "3.0",
         "Mountain",
         "2011-07-01 00:00:00",
         "2007-12-28 00:00:00",
         "CL_SO"
        ],
        [
         "9",
         "219",
         "SO-B909-L",
         "Mountain Bike Socks- L",
         "3.0",
         "Mountain",
         "2011-07-01 00:00:00",
         "2007-12-28 00:00:00",
         "CL_SO"
        ],
        [
         "10",
         "220",
         "HL-U509-B",
         "Sport-100 Helmet- Blue",
         "12.0",
         "Other Sales",
         "2011-07-01 00:00:00",
         "2007-12-28 00:00:00",
         "AC_HE"
        ],
        [
         "11",
         "221",
         "HL-U509-B",
         "Sport-100 Helmet- Blue",
         "14.0",
         "Other Sales",
         "2012-07-01 00:00:00",
         "2008-12-27 00:00:00",
         "AC_HE"
        ],
        [
         "13",
         "223",
         "CA-1098",
         "AWC Logo Cap",
         "6.0",
         "Other Sales",
         "2011-07-01 00:00:00",
         "2007-12-28 00:00:00",
         "CL_CA"
        ],
        [
         "14",
         "224",
         "CA-1098",
         "AWC Logo Cap",
         "5.0",
         "Other Sales",
         "2012-07-01 00:00:00",
         "2008-12-27 00:00:00",
         "CL_CA"
        ],
        [
         "16",
         "226",
         "LJ-0192-S",
         "Long-Sleeve Logo Jersey- S",
         "32.0",
         "Other Sales",
         "2011-07-01 00:00:00",
         "2007-12-28 00:00:00",
         "CL_JE"
        ],
        [
         "17",
         "227",
         "LJ-0192-S",
         "Long-Sleeve Logo Jersey- S",
         "29.0",
         "Other Sales",
         "2012-07-01 00:00:00",
         "2008-12-27 00:00:00",
         "CL_JE"
        ],
        [
         "19",
         "229",
         "LJ-0192-M",
         "Long-Sleeve Logo Jersey- M",
         "32.0",
         "Other Sales",
         "2011-07-01 00:00:00",
         "2007-12-28 00:00:00",
         "CL_JE"
        ],
        [
         "20",
         "230",
         "LJ-0192-M",
         "Long-Sleeve Logo Jersey- M",
         "29.0",
         "Other Sales",
         "2012-07-01 00:00:00",
         "2008-12-27 00:00:00",
         "CL_JE"
        ],
        [
         "22",
         "232",
         "LJ-0192-L",
         "Long-Sleeve Logo Jersey- L",
         "32.0",
         "Other Sales",
         "2011-07-01 00:00:00",
         "2007-12-28 00:00:00",
         "CL_JE"
        ],
        [
         "23",
         "233",
         "LJ-0192-L",
         "Long-Sleeve Logo Jersey- L",
         "29.0",
         "Other Sales",
         "2012-07-01 00:00:00",
         "2008-12-27 00:00:00",
         "CL_JE"
        ],
        [
         "25",
         "235",
         "LJ-0192-X",
         "Long-Sleeve Logo Jersey- XL",
         "32.0",
         "Other Sales",
         "2011-07-01 00:00:00",
         "2007-12-28 00:00:00",
         "CL_JE"
        ],
        [
         "26",
         "236",
         "LJ-0192-X",
         "Long-Sleeve Logo Jersey- XL",
         "29.0",
         "Other Sales",
         "2012-07-01 00:00:00",
         "2008-12-27 00:00:00",
         "CL_JE"
        ],
        [
         "28",
         "238",
         "FR-R92R-62",
         "HL Road Frame - Red- 62",
         "748.0",
         "Road",
         "2011-07-01 00:00:00",
         "2007-12-28 00:00:00",
         "CO_RF"
        ],
        [
         "29",
         "239",
         "FR-R92R-62",
         "HL Road Frame - Red- 62",
         "722.0",
         "Road",
         "2012-07-01 00:00:00",
         "2008-12-27 00:00:00",
         "CO_RF"
        ],
        [
         "31",
         "241",
         "FR-R92R-44",
         "HL Road Frame - Red- 44",
         "748.0",
         "Road",
         "2011-07-01 00:00:00",
         "2007-12-28 00:00:00",
         "CO_RF"
        ],
        [
         "32",
         "242",
         "FR-R92R-44",
         "HL Road Frame - Red- 44",
         "722.0",
         "Road",
         "2012-07-01 00:00:00",
         "2008-12-27 00:00:00",
         "CO_RF"
        ],
        [
         "34",
         "244",
         "FR-R92R-48",
         "HL Road Frame - Red- 48",
         "748.0",
         "Road",
         "2011-07-01 00:00:00",
         "2007-12-28 00:00:00",
         "CO_RF"
        ],
        [
         "35",
         "245",
         "FR-R92R-48",
         "HL Road Frame - Red- 48",
         "722.0",
         "Road",
         "2012-07-01 00:00:00",
         "2008-12-27 00:00:00",
         "CO_RF"
        ],
        [
         "37",
         "247",
         "FR-R92R-52",
         "HL Road Frame - Red- 52",
         "748.0",
         "Road",
         "2011-07-01 00:00:00",
         "2007-12-28 00:00:00",
         "CO_RF"
        ],
        [
         "38",
         "248",
         "FR-R92R-52",
         "HL Road Frame - Red- 52",
         "722.0",
         "Road",
         "2012-07-01 00:00:00",
         "2008-12-27 00:00:00",
         "CO_RF"
        ],
        [
         "40",
         "250",
         "FR-R92R-56",
         "HL Road Frame - Red- 56",
         "748.0",
         "Road",
         "2011-07-01 00:00:00",
         "2007-12-28 00:00:00",
         "CO_RF"
        ],
        [
         "41",
         "251",
         "FR-R92R-56",
         "HL Road Frame - Red- 56",
         "722.0",
         "Road",
         "2012-07-01 00:00:00",
         "2008-12-27 00:00:00",
         "CO_RF"
        ],
        [
         "43",
         "253",
         "FR-R38B-58",
         "LL Road Frame - Black- 58",
         "176.0",
         "Road",
         "2011-07-01 00:00:00",
         "2007-12-28 00:00:00",
         "CO_RF"
        ],
        [
         "44",
         "254",
         "FR-R38B-58",
         "LL Road Frame - Black- 58",
         "170.0",
         "Road",
         "2012-07-01 00:00:00",
         "2008-12-27 00:00:00",
         "CO_RF"
        ],
        [
         "46",
         "256",
         "FR-R38B-60",
         "LL Road Frame - Black- 60",
         "176.0",
         "Road",
         "2011-07-01 00:00:00",
         "2007-12-28 00:00:00",
         "CO_RF"
        ],
        [
         "47",
         "257",
         "FR-R38B-60",
         "LL Road Frame - Black- 60",
         "170.0",
         "Road",
         "2012-07-01 00:00:00",
         "2008-12-27 00:00:00",
         "CO_RF"
        ],
        [
         "49",
         "259",
         "FR-R38B-62",
         "LL Road Frame - Black- 62",
         "176.0",
         "Road",
         "2011-07-01 00:00:00",
         "2007-12-28 00:00:00",
         "CO_RF"
        ],
        [
         "50",
         "260",
         "FR-R38B-62",
         "LL Road Frame - Black- 62",
         "170.0",
         "Road",
         "2012-07-01 00:00:00",
         "2008-12-27 00:00:00",
         "CO_RF"
        ],
        [
         "52",
         "262",
         "FR-R38R-44",
         "LL Road Frame - Red- 44",
         "181.0",
         "Road",
         "2011-07-01 00:00:00",
         "2007-12-28 00:00:00",
         "CO_RF"
        ],
        [
         "53",
         "263",
         "FR-R38R-44",
         "LL Road Frame - Red- 44",
         "187.0",
         "Road",
         "2012-07-01 00:00:00",
         "2008-12-27 00:00:00",
         "CO_RF"
        ],
        [
         "54",
         "264",
         "FR-R38R-48",
         "LL Road Frame - Red- 48",
         "181.0",
         "Road",
         "2011-07-01 00:00:00",
         "2007-12-28 00:00:00",
         "CO_RF"
        ],
        [
         "55",
         "265",
         "FR-R38R-48",
         "LL Road Frame - Red- 48",
         "187.0",
         "Road",
         "2012-07-01 00:00:00",
         "2008-12-27 00:00:00",
         "CO_RF"
        ],
        [
         "56",
         "266",
         "FR-R38R-52",
         "LL Road Frame - Red- 52",
         "181.0",
         "Road",
         "2011-07-01 00:00:00",
         "2007-12-28 00:00:00",
         "CO_RF"
        ],
        [
         "57",
         "267",
         "FR-R38R-52",
         "LL Road Frame - Red- 52",
         "187.0",
         "Road",
         "2012-07-01 00:00:00",
         "2008-12-27 00:00:00",
         "CO_RF"
        ],
        [
         "58",
         "268",
         "FR-R38R-58",
         "LL Road Frame - Red- 58",
         "181.0",
         "Road",
         "2011-07-01 00:00:00",
         "2007-12-28 00:00:00",
         "CO_RF"
        ],
        [
         "59",
         "269",
         "FR-R38R-58",
         "LL Road Frame - Red- 58",
         "187.0",
         "Road",
         "2012-07-01 00:00:00",
         "2008-12-27 00:00:00",
         "CO_RF"
        ],
        [
         "60",
         "270",
         "FR-R38R-60",
         "LL Road Frame - Red- 60",
         "181.0",
         "Road",
         "2011-07-01 00:00:00",
         "2007-12-28 00:00:00",
         "CO_RF"
        ],
        [
         "61",
         "271",
         "FR-R38R-60",
         "LL Road Frame - Red- 60",
         "187.0",
         "Road",
         "2012-07-01 00:00:00",
         "2008-12-27 00:00:00",
         "CO_RF"
        ],
        [
         "62",
         "272",
         "FR-R38R-62",
         "LL Road Frame - Red- 62",
         "181.0",
         "Road",
         "2011-07-01 00:00:00",
         "2007-12-28 00:00:00",
         "CO_RF"
        ],
        [
         "63",
         "273",
         "FR-R38R-62",
         "LL Road Frame - Red- 62",
         "187.0",
         "Road",
         "2012-07-01 00:00:00",
         "2008-12-27 00:00:00",
         "CO_RF"
        ],
        [
         "64",
         "274",
         "FR-R72R-44",
         "ML Road Frame - Red- 44",
         "352.0",
         "Road",
         "2011-07-01 00:00:00",
         "2007-12-28 00:00:00",
         "CO_RF"
        ],
        [
         "65",
         "275",
         "FR-R72R-48",
         "ML Road Frame - Red- 48",
         "352.0",
         "Road",
         "2011-07-01 00:00:00",
         "2007-12-28 00:00:00",
         "CO_RF"
        ],
        [
         "66",
         "276",
         "FR-R72R-52",
         "ML Road Frame - Red- 52",
         "352.0",
         "Road",
         "2011-07-01 00:00:00",
         "2007-12-28 00:00:00",
         "CO_RF"
        ],
        [
         "67",
         "277",
         "FR-R72R-58",
         "ML Road Frame - Red- 58",
         "352.0",
         "Road",
         "2011-07-01 00:00:00",
         "2007-12-28 00:00:00",
         "CO_RF"
        ]
       ],
       "shape": {
        "columns": 8,
        "rows": 200
       }
      },
      "text/html": [
       "<div>\n",
       "<style scoped>\n",
       "    .dataframe tbody tr th:only-of-type {\n",
       "        vertical-align: middle;\n",
       "    }\n",
       "\n",
       "    .dataframe tbody tr th {\n",
       "        vertical-align: top;\n",
       "    }\n",
       "\n",
       "    .dataframe thead th {\n",
       "        text-align: right;\n",
       "    }\n",
       "</style>\n",
       "<table border=\"1\" class=\"dataframe\">\n",
       "  <thead>\n",
       "    <tr style=\"text-align: right;\">\n",
       "      <th></th>\n",
       "      <th>prd_id</th>\n",
       "      <th>prd_key</th>\n",
       "      <th>prd_nm</th>\n",
       "      <th>prd_cost</th>\n",
       "      <th>prd_line</th>\n",
       "      <th>prd_start_dt</th>\n",
       "      <th>prd_end_dt</th>\n",
       "      <th>cat_id</th>\n",
       "    </tr>\n",
       "  </thead>\n",
       "  <tbody>\n",
       "    <tr>\n",
       "      <th>2</th>\n",
       "      <td>212</td>\n",
       "      <td>HL-U509-R</td>\n",
       "      <td>Sport-100 Helmet- Red</td>\n",
       "      <td>12.0</td>\n",
       "      <td>Other Sales</td>\n",
       "      <td>2011-07-01</td>\n",
       "      <td>2007-12-28</td>\n",
       "      <td>AC_HE</td>\n",
       "    </tr>\n",
       "    <tr>\n",
       "      <th>3</th>\n",
       "      <td>213</td>\n",
       "      <td>HL-U509-R</td>\n",
       "      <td>Sport-100 Helmet- Red</td>\n",
       "      <td>14.0</td>\n",
       "      <td>Other Sales</td>\n",
       "      <td>2012-07-01</td>\n",
       "      <td>2008-12-27</td>\n",
       "      <td>AC_HE</td>\n",
       "    </tr>\n",
       "    <tr>\n",
       "      <th>5</th>\n",
       "      <td>215</td>\n",
       "      <td>HL-U509</td>\n",
       "      <td>Sport-100 Helmet- Black</td>\n",
       "      <td>12.0</td>\n",
       "      <td>Other Sales</td>\n",
       "      <td>2011-07-01</td>\n",
       "      <td>2007-12-28</td>\n",
       "      <td>AC_HE</td>\n",
       "    </tr>\n",
       "    <tr>\n",
       "      <th>6</th>\n",
       "      <td>216</td>\n",
       "      <td>HL-U509</td>\n",
       "      <td>Sport-100 Helmet- Black</td>\n",
       "      <td>14.0</td>\n",
       "      <td>Other Sales</td>\n",
       "      <td>2012-07-01</td>\n",
       "      <td>2008-12-27</td>\n",
       "      <td>AC_HE</td>\n",
       "    </tr>\n",
       "    <tr>\n",
       "      <th>8</th>\n",
       "      <td>218</td>\n",
       "      <td>SO-B909-M</td>\n",
       "      <td>Mountain Bike Socks- M</td>\n",
       "      <td>3.0</td>\n",
       "      <td>Mountain</td>\n",
       "      <td>2011-07-01</td>\n",
       "      <td>2007-12-28</td>\n",
       "      <td>CL_SO</td>\n",
       "    </tr>\n",
       "    <tr>\n",
       "      <th>...</th>\n",
       "      <td>...</td>\n",
       "      <td>...</td>\n",
       "      <td>...</td>\n",
       "      <td>...</td>\n",
       "      <td>...</td>\n",
       "      <td>...</td>\n",
       "      <td>...</td>\n",
       "      <td>...</td>\n",
       "    </tr>\n",
       "    <tr>\n",
       "      <th>254</th>\n",
       "      <td>464</td>\n",
       "      <td>GL-H102-M</td>\n",
       "      <td>Half-Finger Gloves- M</td>\n",
       "      <td>10.0</td>\n",
       "      <td>Other Sales</td>\n",
       "      <td>2012-07-01</td>\n",
       "      <td>2008-12-27</td>\n",
       "      <td>CL_GL</td>\n",
       "    </tr>\n",
       "    <tr>\n",
       "      <th>256</th>\n",
       "      <td>466</td>\n",
       "      <td>GL-H102-L</td>\n",
       "      <td>Half-Finger Gloves- L</td>\n",
       "      <td>10.0</td>\n",
       "      <td>Other Sales</td>\n",
       "      <td>2012-07-01</td>\n",
       "      <td>2008-12-27</td>\n",
       "      <td>CL_GL</td>\n",
       "    </tr>\n",
       "    <tr>\n",
       "      <th>258</th>\n",
       "      <td>468</td>\n",
       "      <td>GL-F110-S</td>\n",
       "      <td>Full-Finger Gloves- S</td>\n",
       "      <td>16.0</td>\n",
       "      <td>Mountain</td>\n",
       "      <td>2012-07-01</td>\n",
       "      <td>2008-12-27</td>\n",
       "      <td>CL_GL</td>\n",
       "    </tr>\n",
       "    <tr>\n",
       "      <th>259</th>\n",
       "      <td>469</td>\n",
       "      <td>GL-F110-M</td>\n",
       "      <td>Full-Finger Gloves- M</td>\n",
       "      <td>16.0</td>\n",
       "      <td>Mountain</td>\n",
       "      <td>2012-07-01</td>\n",
       "      <td>2008-12-27</td>\n",
       "      <td>CL_GL</td>\n",
       "    </tr>\n",
       "    <tr>\n",
       "      <th>260</th>\n",
       "      <td>470</td>\n",
       "      <td>GL-F110-L</td>\n",
       "      <td>Full-Finger Gloves- L</td>\n",
       "      <td>16.0</td>\n",
       "      <td>Mountain</td>\n",
       "      <td>2012-07-01</td>\n",
       "      <td>2008-12-27</td>\n",
       "      <td>CL_GL</td>\n",
       "    </tr>\n",
       "  </tbody>\n",
       "</table>\n",
       "<p>200 rows × 8 columns</p>\n",
       "</div>"
      ],
      "text/plain": [
       "     prd_id    prd_key                   prd_nm  prd_cost     prd_line  \\\n",
       "2       212  HL-U509-R    Sport-100 Helmet- Red      12.0  Other Sales   \n",
       "3       213  HL-U509-R    Sport-100 Helmet- Red      14.0  Other Sales   \n",
       "5       215    HL-U509  Sport-100 Helmet- Black      12.0  Other Sales   \n",
       "6       216    HL-U509  Sport-100 Helmet- Black      14.0  Other Sales   \n",
       "8       218  SO-B909-M   Mountain Bike Socks- M       3.0     Mountain   \n",
       "..      ...        ...                      ...       ...          ...   \n",
       "254     464  GL-H102-M    Half-Finger Gloves- M      10.0  Other Sales   \n",
       "256     466  GL-H102-L    Half-Finger Gloves- L      10.0  Other Sales   \n",
       "258     468  GL-F110-S    Full-Finger Gloves- S      16.0     Mountain   \n",
       "259     469  GL-F110-M    Full-Finger Gloves- M      16.0     Mountain   \n",
       "260     470  GL-F110-L    Full-Finger Gloves- L      16.0     Mountain   \n",
       "\n",
       "    prd_start_dt prd_end_dt cat_id  \n",
       "2     2011-07-01 2007-12-28  AC_HE  \n",
       "3     2012-07-01 2008-12-27  AC_HE  \n",
       "5     2011-07-01 2007-12-28  AC_HE  \n",
       "6     2012-07-01 2008-12-27  AC_HE  \n",
       "8     2011-07-01 2007-12-28  CL_SO  \n",
       "..           ...        ...    ...  \n",
       "254   2012-07-01 2008-12-27  CL_GL  \n",
       "256   2012-07-01 2008-12-27  CL_GL  \n",
       "258   2012-07-01 2008-12-27  CL_GL  \n",
       "259   2012-07-01 2008-12-27  CL_GL  \n",
       "260   2012-07-01 2008-12-27  CL_GL  \n",
       "\n",
       "[200 rows x 8 columns]"
      ]
     },
     "execution_count": 49,
     "metadata": {},
     "output_type": "execute_result"
    }
   ],
   "source": [
    "df[df[\"prd_end_dt\"]<df[\"prd_start_dt\"]]"
   ]
  },
  {
   "cell_type": "code",
   "execution_count": 50,
   "metadata": {},
   "outputs": [],
   "source": [
    "# Swapping the columns\n",
    "# Reason: each end_dt is erlier than the start_dt\n",
    "df = df.rename(columns={'prd_start_dt': 'prd_end_dt', 'prd_end_dt': 'prd_start_dt'})"
   ]
  },
  {
   "cell_type": "code",
   "execution_count": 51,
   "metadata": {},
   "outputs": [
    {
     "name": "stdout",
     "output_type": "stream",
     "text": [
      "Difference: 3 years, 6 months, 3 days\n",
      "Difference: 3 years, 6 months, 4 days\n",
      "Difference: 3 years, 6 months, 3 days\n",
      "Difference: 3 years, 6 months, 4 days\n",
      "Difference: 3 years, 6 months, 3 days\n",
      "Difference: 3 years, 6 months, 3 days\n",
      "Difference: 3 years, 6 months, 3 days\n",
      "Difference: 3 years, 6 months, 4 days\n",
      "Difference: 3 years, 6 months, 3 days\n",
      "Difference: 3 years, 6 months, 4 days\n",
      "Difference: 3 years, 6 months, 3 days\n",
      "Difference: 3 years, 6 months, 4 days\n",
      "Difference: 3 years, 6 months, 3 days\n",
      "Difference: 3 years, 6 months, 4 days\n",
      "Difference: 3 years, 6 months, 3 days\n",
      "Difference: 3 years, 6 months, 4 days\n",
      "Difference: 3 years, 6 months, 3 days\n",
      "Difference: 3 years, 6 months, 4 days\n",
      "Difference: 3 years, 6 months, 3 days\n",
      "Difference: 3 years, 6 months, 4 days\n",
      "Difference: 3 years, 6 months, 3 days\n",
      "Difference: 3 years, 6 months, 4 days\n",
      "Difference: 3 years, 6 months, 3 days\n",
      "Difference: 3 years, 6 months, 4 days\n",
      "Difference: 3 years, 6 months, 3 days\n",
      "Difference: 3 years, 6 months, 4 days\n",
      "Difference: 3 years, 6 months, 3 days\n",
      "Difference: 3 years, 6 months, 4 days\n",
      "Difference: 3 years, 6 months, 3 days\n",
      "Difference: 3 years, 6 months, 4 days\n",
      "Difference: 3 years, 6 months, 3 days\n",
      "Difference: 3 years, 6 months, 4 days\n",
      "Difference: 3 years, 6 months, 3 days\n",
      "Difference: 3 years, 6 months, 4 days\n",
      "Difference: 3 years, 6 months, 3 days\n",
      "Difference: 3 years, 6 months, 4 days\n",
      "Difference: 3 years, 6 months, 3 days\n",
      "Difference: 3 years, 6 months, 4 days\n",
      "Difference: 3 years, 6 months, 3 days\n",
      "Difference: 3 years, 6 months, 4 days\n",
      "Difference: 3 years, 6 months, 3 days\n",
      "Difference: 3 years, 6 months, 4 days\n",
      "Difference: 3 years, 6 months, 3 days\n",
      "Difference: 3 years, 6 months, 4 days\n",
      "Difference: 3 years, 6 months, 3 days\n",
      "Difference: 3 years, 6 months, 4 days\n",
      "Difference: 3 years, 6 months, 3 days\n",
      "Difference: 3 years, 6 months, 3 days\n",
      "Difference: 3 years, 6 months, 3 days\n",
      "Difference: 3 years, 6 months, 3 days\n",
      "Difference: 3 years, 6 months, 3 days\n",
      "Difference: 3 years, 6 months, 3 days\n",
      "Difference: 3 years, 6 months, 4 days\n",
      "Difference: 3 years, 6 months, 3 days\n",
      "Difference: 3 years, 6 months, 4 days\n",
      "Difference: 3 years, 6 months, 3 days\n",
      "Difference: 3 years, 6 months, 4 days\n",
      "Difference: 3 years, 6 months, 3 days\n",
      "Difference: 3 years, 6 months, 4 days\n",
      "Difference: 3 years, 6 months, 3 days\n",
      "Difference: 3 years, 6 months, 3 days\n",
      "Difference: 3 years, 6 months, 3 days\n",
      "Difference: 3 years, 6 months, 4 days\n",
      "Difference: 3 years, 6 months, 3 days\n",
      "Difference: 3 years, 6 months, 4 days\n",
      "Difference: 3 years, 6 months, 3 days\n",
      "Difference: 3 years, 6 months, 3 days\n",
      "Difference: 3 years, 6 months, 3 days\n",
      "Difference: 3 years, 6 months, 4 days\n",
      "Difference: 3 years, 6 months, 3 days\n",
      "Difference: 3 years, 6 months, 4 days\n",
      "Difference: 3 years, 6 months, 3 days\n",
      "Difference: 3 years, 6 months, 4 days\n",
      "Difference: 3 years, 6 months, 3 days\n",
      "Difference: 3 years, 6 months, 3 days\n",
      "Difference: 3 years, 6 months, 3 days\n",
      "Difference: 3 years, 6 months, 3 days\n",
      "Difference: 3 years, 6 months, 3 days\n",
      "Difference: 3 years, 6 months, 3 days\n",
      "Difference: 3 years, 6 months, 3 days\n",
      "Difference: 3 years, 6 months, 3 days\n",
      "Difference: 3 years, 6 months, 3 days\n",
      "Difference: 3 years, 6 months, 3 days\n",
      "Difference: 3 years, 6 months, 3 days\n",
      "Difference: 3 years, 6 months, 4 days\n",
      "Difference: 3 years, 6 months, 3 days\n",
      "Difference: 3 years, 6 months, 4 days\n",
      "Difference: 3 years, 6 months, 3 days\n",
      "Difference: 3 years, 6 months, 4 days\n",
      "Difference: 3 years, 6 months, 3 days\n",
      "Difference: 3 years, 6 months, 4 days\n",
      "Difference: 3 years, 6 months, 3 days\n",
      "Difference: 3 years, 6 months, 4 days\n",
      "Difference: 3 years, 6 months, 3 days\n",
      "Difference: 3 years, 6 months, 4 days\n",
      "Difference: 3 years, 6 months, 3 days\n",
      "Difference: 3 years, 6 months, 4 days\n",
      "Difference: 3 years, 6 months, 3 days\n",
      "Difference: 3 years, 6 months, 4 days\n",
      "Difference: 3 years, 6 months, 3 days\n",
      "Difference: 3 years, 6 months, 4 days\n",
      "Difference: 3 years, 6 months, 3 days\n",
      "Difference: 3 years, 6 months, 4 days\n",
      "Difference: 3 years, 6 months, 3 days\n",
      "Difference: 3 years, 6 months, 4 days\n",
      "Difference: 3 years, 6 months, 3 days\n",
      "Difference: 3 years, 6 months, 4 days\n",
      "Difference: 3 years, 6 months, 3 days\n",
      "Difference: 3 years, 6 months, 3 days\n",
      "Difference: 3 years, 6 months, 3 days\n",
      "Difference: 3 years, 6 months, 3 days\n",
      "Difference: 3 years, 6 months, 3 days\n",
      "Difference: 3 years, 6 months, 3 days\n",
      "Difference: 3 years, 6 months, 3 days\n",
      "Difference: 3 years, 6 months, 3 days\n",
      "Difference: 3 years, 6 months, 4 days\n",
      "Difference: 3 years, 6 months, 4 days\n",
      "Difference: 3 years, 6 months, 4 days\n",
      "Difference: 3 years, 6 months, 4 days\n",
      "Difference: 3 years, 6 months, 4 days\n",
      "Difference: 3 years, 6 months, 4 days\n",
      "Difference: 3 years, 6 months, 4 days\n",
      "Difference: 3 years, 6 months, 4 days\n",
      "Difference: 3 years, 6 months, 4 days\n",
      "Difference: 3 years, 6 months, 4 days\n",
      "Difference: 3 years, 6 months, 4 days\n",
      "Difference: 3 years, 6 months, 4 days\n",
      "Difference: 3 years, 6 months, 4 days\n",
      "Difference: 3 years, 6 months, 4 days\n",
      "Difference: 3 years, 6 months, 4 days\n",
      "Difference: 3 years, 6 months, 4 days\n",
      "Difference: 3 years, 6 months, 4 days\n",
      "Difference: 3 years, 6 months, 4 days\n",
      "Difference: 3 years, 6 months, 4 days\n",
      "Difference: 3 years, 6 months, 4 days\n",
      "Difference: 3 years, 6 months, 4 days\n",
      "Difference: 3 years, 6 months, 4 days\n",
      "Difference: 3 years, 6 months, 4 days\n",
      "Difference: 3 years, 6 months, 4 days\n",
      "Difference: 3 years, 6 months, 4 days\n",
      "Difference: 3 years, 6 months, 4 days\n",
      "Difference: 3 years, 6 months, 4 days\n",
      "Difference: 3 years, 6 months, 4 days\n",
      "Difference: 3 years, 6 months, 4 days\n",
      "Difference: 3 years, 6 months, 4 days\n",
      "Difference: 3 years, 6 months, 4 days\n",
      "Difference: 3 years, 6 months, 4 days\n",
      "Difference: 3 years, 6 months, 4 days\n",
      "Difference: 3 years, 6 months, 4 days\n",
      "Difference: 3 years, 6 months, 4 days\n",
      "Difference: 3 years, 6 months, 4 days\n",
      "Difference: 3 years, 6 months, 4 days\n",
      "Difference: 3 years, 6 months, 4 days\n",
      "Difference: 3 years, 6 months, 4 days\n",
      "Difference: 3 years, 6 months, 4 days\n",
      "Difference: 3 years, 6 months, 4 days\n",
      "Difference: 3 years, 6 months, 4 days\n",
      "Difference: 3 years, 6 months, 4 days\n",
      "Difference: 3 years, 6 months, 4 days\n",
      "Difference: 3 years, 6 months, 4 days\n",
      "Difference: 3 years, 6 months, 4 days\n",
      "Difference: 3 years, 6 months, 4 days\n",
      "Difference: 3 years, 6 months, 4 days\n",
      "Difference: 3 years, 6 months, 4 days\n",
      "Difference: 3 years, 6 months, 4 days\n",
      "Difference: 3 years, 6 months, 4 days\n",
      "Difference: 3 years, 6 months, 4 days\n",
      "Difference: 3 years, 6 months, 4 days\n",
      "Difference: 3 years, 6 months, 4 days\n",
      "Difference: 3 years, 6 months, 4 days\n",
      "Difference: 3 years, 6 months, 4 days\n",
      "Difference: 3 years, 6 months, 4 days\n",
      "Difference: 3 years, 6 months, 4 days\n",
      "Difference: 3 years, 6 months, 4 days\n",
      "Difference: 3 years, 6 months, 4 days\n",
      "Difference: 3 years, 6 months, 4 days\n",
      "Difference: 3 years, 6 months, 4 days\n",
      "Difference: 3 years, 6 months, 4 days\n",
      "Difference: 3 years, 6 months, 4 days\n",
      "Difference: 3 years, 6 months, 4 days\n",
      "Difference: 3 years, 6 months, 4 days\n",
      "Difference: 3 years, 6 months, 4 days\n",
      "Difference: 3 years, 6 months, 4 days\n",
      "Difference: 3 years, 6 months, 4 days\n",
      "Difference: 3 years, 6 months, 4 days\n",
      "Difference: 3 years, 6 months, 4 days\n",
      "Difference: 3 years, 6 months, 4 days\n",
      "Difference: 3 years, 6 months, 4 days\n",
      "Difference: 3 years, 6 months, 4 days\n",
      "Difference: 3 years, 6 months, 4 days\n",
      "Difference: 3 years, 6 months, 4 days\n",
      "Difference: 3 years, 6 months, 4 days\n",
      "Difference: 3 years, 6 months, 4 days\n",
      "Difference: 3 years, 6 months, 4 days\n",
      "Difference: 3 years, 6 months, 4 days\n",
      "Difference: 3 years, 6 months, 4 days\n",
      "Difference: 3 years, 6 months, 4 days\n",
      "Difference: 3 years, 6 months, 4 days\n",
      "Difference: 3 years, 6 months, 4 days\n",
      "Difference: 3 years, 6 months, 4 days\n"
     ]
    }
   ],
   "source": [
    "from dateutil.relativedelta import relativedelta\n",
    "# Print the differences\n",
    "for end, start in zip(df['prd_end_dt'], df['prd_start_dt']):\n",
    "    if pd.notna(start) and pd.notna(end):  # Ensure no missing values\n",
    "        diff = relativedelta(end, start)\n",
    "        print(f\"Difference: {diff.years} years, {diff.months} months, {diff.days} days\")\n"
   ]
  },
  {
   "cell_type": "code",
   "execution_count": 52,
   "metadata": {},
   "outputs": [],
   "source": [
    "# Correcting illogical values\n",
    "df['prd_end_dt'] = df['prd_end_dt'].replace(pd.to_datetime('2003-07-01'), pd.to_datetime('2013-07-01'))"
   ]
  },
  {
   "cell_type": "code",
   "execution_count": 53,
   "metadata": {},
   "outputs": [],
   "source": [
    "# subtracts 3 years, 6 months, and 5 days from the prd_end_dt column and stores the result in a new column called end_sub_start\n",
    "df['end_sub_start'] = df['prd_end_dt'].apply(lambda x: x - relativedelta(years=3, months=6, days=5))"
   ]
  },
  {
   "cell_type": "code",
   "execution_count": 54,
   "metadata": {},
   "outputs": [],
   "source": [
    "df['prd_start_dt'] = df['prd_start_dt'].fillna(df['end_sub_start'])"
   ]
  },
  {
   "cell_type": "code",
   "execution_count": 55,
   "metadata": {},
   "outputs": [],
   "source": [
    "df.drop(columns=['end_sub_start'], inplace=True)"
   ]
  },
  {
   "cell_type": "markdown",
   "metadata": {},
   "source": [
    "## Load Transformed Data into SQL Server"
   ]
  },
  {
   "cell_type": "code",
   "execution_count": 56,
   "metadata": {},
   "outputs": [
    {
     "data": {
      "text/plain": [
       "135"
      ]
     },
     "execution_count": 56,
     "metadata": {},
     "output_type": "execute_result"
    }
   ],
   "source": [
    "# Load the transformed \"prd_info\" data into the silver layer\n",
    "\n",
    "server = 'mohamedibrahim'\n",
    "database = 'DataWarehouse'\n",
    "\n",
    "connection_string = (\n",
    "    f'mssql+pyodbc://mohamedibrahim/DataWarehouse'\n",
    "    '?driver=ODBC+Driver+17+for+SQL+Server'\n",
    "    '&Trusted_Connection=yes'\n",
    ")\n",
    "\n",
    "engine = create_engine(connection_string)\n",
    "\n",
    "df.to_sql(\n",
    "    name='crm_prd_info',\n",
    "    schema='silver',\n",
    "    con=engine,   \n",
    "    if_exists='append',\n",
    "    index=False\n",
    ")"
   ]
  }
 ],
 "metadata": {
  "kernelspec": {
   "display_name": "base",
   "language": "python",
   "name": "python3"
  },
  "language_info": {
   "codemirror_mode": {
    "name": "ipython",
    "version": 3
   },
   "file_extension": ".py",
   "mimetype": "text/x-python",
   "name": "python",
   "nbconvert_exporter": "python",
   "pygments_lexer": "ipython3",
   "version": "3.12.7"
  }
 },
 "nbformat": 4,
 "nbformat_minor": 2
}
