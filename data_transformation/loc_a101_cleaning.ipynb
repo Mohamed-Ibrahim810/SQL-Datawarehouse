{
 "cells": [
  {
   "cell_type": "markdown",
   "metadata": {},
   "source": [
    "## Import libraries"
   ]
  },
  {
   "cell_type": "code",
   "execution_count": 9,
   "metadata": {},
   "outputs": [],
   "source": [
    "import pandas as pd\n",
    "import numpy as np\n",
    "from sqlalchemy import create_engine"
   ]
  },
  {
   "cell_type": "markdown",
   "metadata": {},
   "source": [
    "## Extract data from SQL server"
   ]
  },
  {
   "cell_type": "code",
   "execution_count": 10,
   "metadata": {},
   "outputs": [],
   "source": [
    "# Extract the source data from the Bronze layer in SQL Server\n",
    "\n",
    "server = 'mohamedibrahim'\n",
    "database = 'DataWarehouse'\n",
    "\n",
    "connection_string = (\n",
    "    f'mssql+pyodbc://mohamedibrahim/DataWarehouse'\n",
    "    '?driver=ODBC+Driver+17+for+SQL+Server'\n",
    "    '&Trusted_Connection=yes'\n",
    ")\n",
    "engine = create_engine(connection_string)\n",
    "\n",
    "query = \"SELECT * FROM bronze.erp_loc_a101\"\n",
    "df = pd.read_sql(query, engine)"
   ]
  },
  {
   "cell_type": "markdown",
   "metadata": {},
   "source": [
    "## Data overview"
   ]
  },
  {
   "cell_type": "code",
   "execution_count": 11,
   "metadata": {},
   "outputs": [
    {
     "data": {
      "application/vnd.microsoft.datawrangler.viewer.v0+json": {
       "columns": [
        {
         "name": "index",
         "rawType": "int64",
         "type": "integer"
        },
        {
         "name": "CID",
         "rawType": "object",
         "type": "string"
        },
        {
         "name": "CNTRY",
         "rawType": "object",
         "type": "string"
        }
       ],
       "conversionMethod": "pd.DataFrame",
       "ref": "ec7010a8-ef96-4b88-aff4-39037047a3c2",
       "rows": [
        [
         "0",
         "AW-00011000",
         "Australia"
        ],
        [
         "1",
         "AW-00011001",
         "Australia"
        ],
        [
         "2",
         "AW-00011002",
         "Australia"
        ],
        [
         "3",
         "AW-00011003",
         "Australia"
        ],
        [
         "4",
         "AW-00011004",
         "Australia"
        ]
       ],
       "shape": {
        "columns": 2,
        "rows": 5
       }
      },
      "text/html": [
       "<div>\n",
       "<style scoped>\n",
       "    .dataframe tbody tr th:only-of-type {\n",
       "        vertical-align: middle;\n",
       "    }\n",
       "\n",
       "    .dataframe tbody tr th {\n",
       "        vertical-align: top;\n",
       "    }\n",
       "\n",
       "    .dataframe thead th {\n",
       "        text-align: right;\n",
       "    }\n",
       "</style>\n",
       "<table border=\"1\" class=\"dataframe\">\n",
       "  <thead>\n",
       "    <tr style=\"text-align: right;\">\n",
       "      <th></th>\n",
       "      <th>CID</th>\n",
       "      <th>CNTRY</th>\n",
       "    </tr>\n",
       "  </thead>\n",
       "  <tbody>\n",
       "    <tr>\n",
       "      <th>0</th>\n",
       "      <td>AW-00011000</td>\n",
       "      <td>Australia</td>\n",
       "    </tr>\n",
       "    <tr>\n",
       "      <th>1</th>\n",
       "      <td>AW-00011001</td>\n",
       "      <td>Australia</td>\n",
       "    </tr>\n",
       "    <tr>\n",
       "      <th>2</th>\n",
       "      <td>AW-00011002</td>\n",
       "      <td>Australia</td>\n",
       "    </tr>\n",
       "    <tr>\n",
       "      <th>3</th>\n",
       "      <td>AW-00011003</td>\n",
       "      <td>Australia</td>\n",
       "    </tr>\n",
       "    <tr>\n",
       "      <th>4</th>\n",
       "      <td>AW-00011004</td>\n",
       "      <td>Australia</td>\n",
       "    </tr>\n",
       "  </tbody>\n",
       "</table>\n",
       "</div>"
      ],
      "text/plain": [
       "           CID      CNTRY\n",
       "0  AW-00011000  Australia\n",
       "1  AW-00011001  Australia\n",
       "2  AW-00011002  Australia\n",
       "3  AW-00011003  Australia\n",
       "4  AW-00011004  Australia"
      ]
     },
     "execution_count": 11,
     "metadata": {},
     "output_type": "execute_result"
    }
   ],
   "source": [
    "df.head()"
   ]
  },
  {
   "cell_type": "code",
   "execution_count": 12,
   "metadata": {},
   "outputs": [
    {
     "name": "stdout",
     "output_type": "stream",
     "text": [
      "<class 'pandas.core.frame.DataFrame'>\n",
      "RangeIndex: 18484 entries, 0 to 18483\n",
      "Data columns (total 2 columns):\n",
      " #   Column  Non-Null Count  Dtype \n",
      "---  ------  --------------  ----- \n",
      " 0   CID     18484 non-null  object\n",
      " 1   CNTRY   18152 non-null  object\n",
      "dtypes: object(2)\n",
      "memory usage: 288.9+ KB\n"
     ]
    }
   ],
   "source": [
    "df.info()"
   ]
  },
  {
   "cell_type": "code",
   "execution_count": 13,
   "metadata": {},
   "outputs": [
    {
     "data": {
      "text/plain": [
       "CID        0\n",
       "CNTRY    332\n",
       "dtype: int64"
      ]
     },
     "execution_count": 13,
     "metadata": {},
     "output_type": "execute_result"
    }
   ],
   "source": [
    "df.isnull().sum()"
   ]
  },
  {
   "cell_type": "code",
   "execution_count": 14,
   "metadata": {},
   "outputs": [
    {
     "data": {
      "text/plain": [
       "0"
      ]
     },
     "execution_count": 14,
     "metadata": {},
     "output_type": "execute_result"
    }
   ],
   "source": [
    "df.duplicated().sum()"
   ]
  },
  {
   "cell_type": "code",
   "execution_count": 15,
   "metadata": {},
   "outputs": [
    {
     "name": "stdout",
     "output_type": "stream",
     "text": [
      "Unwanted spaces found in column: CNTRY\n"
     ]
    }
   ],
   "source": [
    "# Checks each object column for unwanted spaces (leading spaces, trailing spaces, multiple spaces)\n",
    "for col in df.select_dtypes(include='object').columns:\n",
    "    has_unwanted_spaces = False\n",
    "    \n",
    "    # Iterate through non-null values and check each one\n",
    "    for value in df[col][df[col].notna()]:\n",
    "        # Convert to string and check for unwanted spaces\n",
    "        str_value = str(value)\n",
    "        # Check for leading/trailing spaces or multiple consecutive spaces\n",
    "        if str_value != str_value.strip() or '  ' in str_value:\n",
    "            has_unwanted_spaces = True\n",
    "            break\n",
    "    \n",
    "    if has_unwanted_spaces:\n",
    "        print(f\"Unwanted spaces found in column: {col}\")"
   ]
  },
  {
   "cell_type": "markdown",
   "metadata": {},
   "source": [
    "## Data Inspection & Cleaning"
   ]
  },
  {
   "cell_type": "markdown",
   "metadata": {},
   "source": [
    "#### Column \"CID\""
   ]
  },
  {
   "cell_type": "code",
   "execution_count": 16,
   "metadata": {},
   "outputs": [
    {
     "data": {
      "text/plain": [
       "True"
      ]
     },
     "execution_count": 16,
     "metadata": {},
     "output_type": "execute_result"
    }
   ],
   "source": [
    "df[\"CID\"].is_unique"
   ]
  },
  {
   "cell_type": "code",
   "execution_count": 17,
   "metadata": {},
   "outputs": [],
   "source": [
    "df[\"CID\"] = df[\"CID\"].str.replace('-', '', regex=False)"
   ]
  },
  {
   "cell_type": "code",
   "execution_count": 18,
   "metadata": {},
   "outputs": [
    {
     "data": {
      "application/vnd.microsoft.datawrangler.viewer.v0+json": {
       "columns": [
        {
         "name": "index",
         "rawType": "int64",
         "type": "integer"
        },
        {
         "name": "CID",
         "rawType": "object",
         "type": "string"
        },
        {
         "name": "CNTRY",
         "rawType": "object",
         "type": "string"
        }
       ],
       "conversionMethod": "pd.DataFrame",
       "ref": "7eaaf65f-f871-42f4-865a-fbc001625942",
       "rows": [],
       "shape": {
        "columns": 2,
        "rows": 0
       }
      },
      "text/html": [
       "<div>\n",
       "<style scoped>\n",
       "    .dataframe tbody tr th:only-of-type {\n",
       "        vertical-align: middle;\n",
       "    }\n",
       "\n",
       "    .dataframe tbody tr th {\n",
       "        vertical-align: top;\n",
       "    }\n",
       "\n",
       "    .dataframe thead th {\n",
       "        text-align: right;\n",
       "    }\n",
       "</style>\n",
       "<table border=\"1\" class=\"dataframe\">\n",
       "  <thead>\n",
       "    <tr style=\"text-align: right;\">\n",
       "      <th></th>\n",
       "      <th>CID</th>\n",
       "      <th>CNTRY</th>\n",
       "    </tr>\n",
       "  </thead>\n",
       "  <tbody>\n",
       "  </tbody>\n",
       "</table>\n",
       "</div>"
      ],
      "text/plain": [
       "Empty DataFrame\n",
       "Columns: [CID, CNTRY]\n",
       "Index: []"
      ]
     },
     "execution_count": 18,
     "metadata": {},
     "output_type": "execute_result"
    }
   ],
   "source": [
    "df[~df[\"CID\"].str.match(r\"AW\\d{8}\")]"
   ]
  },
  {
   "cell_type": "markdown",
   "metadata": {},
   "source": [
    "#### Column \"CNTRY\""
   ]
  },
  {
   "cell_type": "code",
   "execution_count": 19,
   "metadata": {},
   "outputs": [],
   "source": [
    "df[\"CNTRY\"] = df[\"CNTRY\"].str.strip()"
   ]
  },
  {
   "cell_type": "code",
   "execution_count": 20,
   "metadata": {},
   "outputs": [
    {
     "data": {
      "text/plain": [
       "array(['Australia', 'US', 'Canada', 'DE', 'United Kingdom', 'France',\n",
       "       'USA', 'Germany', None, '', 'United States'], dtype=object)"
      ]
     },
     "execution_count": 20,
     "metadata": {},
     "output_type": "execute_result"
    }
   ],
   "source": [
    "df[\"CNTRY\"].unique()"
   ]
  },
  {
   "cell_type": "code",
   "execution_count": 21,
   "metadata": {},
   "outputs": [],
   "source": [
    "df[\"CNTRY\"] = df[\"CNTRY\"].replace('US','United States')\n",
    "df[\"CNTRY\"] = df[\"CNTRY\"].replace('USA','United States')\n",
    "df[\"CNTRY\"] = df[\"CNTRY\"].replace('','Unknown')\n",
    "df[\"CNTRY\"] = df[\"CNTRY\"].fillna('Unknown')\n",
    "df[\"CNTRY\"] = df[\"CNTRY\"].replace('DE','Germany')"
   ]
  },
  {
   "cell_type": "markdown",
   "metadata": {},
   "source": [
    "## Load Transformed Data into SQL Server"
   ]
  },
  {
   "cell_type": "code",
   "execution_count": 22,
   "metadata": {},
   "outputs": [
    {
     "data": {
      "text/plain": [
       "484"
      ]
     },
     "execution_count": 22,
     "metadata": {},
     "output_type": "execute_result"
    }
   ],
   "source": [
    "# Load the transformed \"loc_a101\" data into the silver layer\n",
    "\n",
    "server = 'mohamedibrahim'\n",
    "database = 'DataWarehouse'\n",
    "\n",
    "connection_string = (\n",
    "    f'mssql+pyodbc://mohamedibrahim/DataWarehouse'\n",
    "    '?driver=ODBC+Driver+17+for+SQL+Server'\n",
    "    '&Trusted_Connection=yes'\n",
    ")\n",
    "\n",
    "engine = create_engine(connection_string)\n",
    "\n",
    "df.to_sql(\n",
    "    name='erp_loc_a101',\n",
    "    schema='silver',\n",
    "    con=engine,   \n",
    "    if_exists='append',\n",
    "    index=False\n",
    ")"
   ]
  }
 ],
 "metadata": {
  "kernelspec": {
   "display_name": "base",
   "language": "python",
   "name": "python3"
  },
  "language_info": {
   "codemirror_mode": {
    "name": "ipython",
    "version": 3
   },
   "file_extension": ".py",
   "mimetype": "text/x-python",
   "name": "python",
   "nbconvert_exporter": "python",
   "pygments_lexer": "ipython3",
   "version": "3.12.7"
  }
 },
 "nbformat": 4,
 "nbformat_minor": 2
}
